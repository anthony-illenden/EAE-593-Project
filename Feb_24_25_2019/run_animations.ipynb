{
 "cells": [
  {
   "cell_type": "code",
   "execution_count": 1,
   "metadata": {},
   "outputs": [],
   "source": [
    "from PIL import Image\n",
    "import os\n",
    "\n",
    "def create_gif(input_dir, output_gif, duration=500):\n",
    "    \"\"\"\n",
    "    Create a GIF from a series of PNG images.\n",
    "\n",
    "    Parameters:\n",
    "        input_dir (str): The directory containing PNG images.\n",
    "        output_gif (str): The path for the output GIF file.\n",
    "        duration (int): Duration for each frame in milliseconds (default is 500).\n",
    "    \"\"\"\n",
    "    # Create a list of PNG files in the specified directory\n",
    "    png_files = [f for f in os.listdir(input_dir) if f.endswith('.png')]\n",
    "    \n",
    "    # Sort files to maintain the correct order\n",
    "    png_files.sort()\n",
    "\n",
    "    # Create a list to hold the images\n",
    "    images = []\n",
    "\n",
    "    for png_file in png_files:\n",
    "        img_path = os.path.join(input_dir, png_file)\n",
    "        img = Image.open(img_path)\n",
    "        images.append(img)\n",
    "\n",
    "    if images:  # Check if there are images to save\n",
    "        # Create the output directory if it doesn't exist\n",
    "        output_dir = os.path.dirname(output_gif)\n",
    "        if output_dir and not os.path.exists(output_dir):\n",
    "            os.makedirs(output_dir)\n",
    "\n",
    "        # Save images as a GIF\n",
    "        images[0].save(output_gif, save_all=True, append_images=images[1:], duration=duration, loop=0)\n",
    "        print(f\"GIF saved as {output_gif}\")\n",
    "    else:\n",
    "        print(\"No PNG images found in the specified directory.\")\n"
   ]
  },
  {
   "cell_type": "code",
   "execution_count": 2,
   "metadata": {},
   "outputs": [
    {
     "name": "stdout",
     "output_type": "stream",
     "text": [
      "GIF saved as C:\\Users\\Tony\\Documents\\GitHub\\EAE-593-Project\\Feb_24_25_2019\\Animations\\Isotachs.gif\n",
      "GIF saved as C:\\Users\\Tony\\Documents\\GitHub\\EAE-593-Project\\Feb_24_25_2019\\Animations\\IVT.gif\n",
      "GIF saved as C:\\Users\\Tony\\Documents\\GitHub\\EAE-593-Project\\Feb_24_25_2019\\Animations\\IWV.gif\n",
      "GIF saved as C:\\Users\\Tony\\Documents\\GitHub\\EAE-593-Project\\Feb_24_25_2019\\Animations\\Vorticity.gif\n",
      "GIF saved as C:\\Users\\Tony\\Documents\\GitHub\\EAE-593-Project\\Feb_24_25_2019\\Animations\\Specific_humidity.gif\n"
     ]
    }
   ],
   "source": [
    "if __name__ == '__main__':\n",
    "    animations = {\n",
    "        'Isotachs': {\n",
    "            'input_directory': 'C:\\\\Users\\\\Tony\\\\Documents\\\\GitHub\\\\EAE-593-Project\\\\Feb_24_25_2019\\\\Isotachs',\n",
    "            'output_gif_path': 'C:\\\\Users\\\\Tony\\\\Documents\\\\GitHub\\\\EAE-593-Project\\\\Feb_24_25_2019\\\\Animations\\\\Isotachs.gif'\n",
    "        },\n",
    "        'IVT': {\n",
    "            'input_directory': 'C:\\\\Users\\\\Tony\\\\Documents\\\\GitHub\\\\EAE-593-Project\\\\Feb_24_25_2019\\\\IVT',\n",
    "            'output_gif_path': 'C:\\\\Users\\\\Tony\\\\Documents\\\\GitHub\\\\EAE-593-Project\\\\Feb_24_25_2019\\\\Animations\\\\IVT.gif'\n",
    "        },\n",
    "        'IWV': {\n",
    "            'input_directory': 'C:\\\\Users\\\\Tony\\\\Documents\\\\GitHub\\\\EAE-593-Project\\\\Feb_24_25_2019\\\\IWV',\n",
    "            'output_gif_path': 'C:\\\\Users\\\\Tony\\\\Documents\\\\GitHub\\\\EAE-593-Project\\\\Feb_24_25_2019\\\\Animations\\\\IWV.gif'\n",
    "        },\n",
    "        'Vorticity': {\n",
    "            'input_directory': 'C:\\\\Users\\\\Tony\\\\Documents\\\\GitHub\\\\EAE-593-Project\\\\Feb_24_25_2019\\\\Vorticity',\n",
    "            'output_gif_path': 'C:\\\\Users\\\\Tony\\\\Documents\\\\GitHub\\\\EAE-593-Project\\\\Feb_24_25_2019\\\\Animations\\\\Vorticity.gif'\n",
    "        },\n",
    "        'Specific_humidity': {\n",
    "            'input_directory': 'C:\\\\Users\\\\Tony\\\\Documents\\\\GitHub\\\\EAE-593-Project\\\\Feb_24_25_2019\\\\Specific_humidity',\n",
    "            'output_gif_path': 'C:\\\\Users\\\\Tony\\\\Documents\\\\GitHub\\\\EAE-593-Project\\\\Feb_24_25_2019\\\\Animations\\\\Specific_humidity.gif'\n",
    "        }}\n",
    "\n",
    "    # Iterate over the dictionary and call create_gif for each set of parameters\n",
    "    for variable_name, paths in animations.items():\n",
    "        create_gif(paths['input_directory'], paths['output_gif_path'])"
   ]
  }
 ],
 "metadata": {
  "kernelspec": {
   "display_name": "base",
   "language": "python",
   "name": "python3"
  },
  "language_info": {
   "codemirror_mode": {
    "name": "ipython",
    "version": 3
   },
   "file_extension": ".py",
   "mimetype": "text/x-python",
   "name": "python",
   "nbconvert_exporter": "python",
   "pygments_lexer": "ipython3",
   "version": "3.9.18"
  }
 },
 "nbformat": 4,
 "nbformat_minor": 2
}
